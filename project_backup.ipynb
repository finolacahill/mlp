{
 "cells": [
  {
   "cell_type": "markdown",
   "metadata": {},
   "source": [
    "#### Train an MLP with 2 inputs, 3-4+ hidden units and one output on the following examples (XOR function):\n"
   ]
  },
  {
   "cell_type": "markdown",
   "metadata": {},
   "source": [
    "Step 1) Build a perceptron\n",
    "A stack of perceptrons together == hidden layer a.k.a a dense layer"
   ]
  },
  {
   "cell_type": "code",
   "execution_count": 1,
   "metadata": {},
   "outputs": [],
   "source": [
    "import numpy as np\n",
    "import pandas as pd\n",
    "np.random.seed(42)"
   ]
  },
  {
   "cell_type": "code",
   "execution_count": 2,
   "metadata": {},
   "outputs": [],
   "source": [
    "class MLP:\n",
    "    def __init__(self, inputs, outputs, hidden_units=3, epochs=500, learning_rate=.1, random_state=None):\n",
    "        self.inputs = inputs\n",
    "        self.outputs = outputs\n",
    "        self.hidden_units = hidden_units\n",
    "        self.epochs = epochs\n",
    "        self.learning_rate = learning_rate\n",
    "        self.random_state = random_state\n",
    "    def checkParameters(self):\n",
    "        if self.inputs < 1:\n",
    "            raise ValueError('Must have at least 1 input')\n",
    "        if self.outputs < 1:\n",
    "            raise ValueError('Must have at least 1 output')\n",
    "        if self.hidden_units < 1:\n",
    "            raise ValueError('Must have at least 1 hidden unit')\n",
    "        if self.epochs < 1:\n",
    "            raise ValueError('Must train for at least 1 epoch')\n",
    "        #Is it a max of 1 also??\n",
    "        if self.learning_rate <=0:\n",
    "            raise ValueError('Learning rate must be greater than 0')\n",
    "    \n",
    "    def fit(self, x, y):\n",
    "        self.checkParameters()\n",
    "        self.input = x\n",
    "        self.output = y\n",
    "        if self.random_state is not None:\n",
    "            np.random.seed(self.random_state)\n",
    "        #Xavier initialization to train model to converge faster\n",
    "        self.w1 = np.random.normal(loc=0.0,\n",
    "                              scale=np.sqrt(2/(self.inputs+self.hidden_units)),\n",
    "                             size = (self.inputs, self.hidden_units))\n",
    "        self.w2 = np.random.normal(loc=0.0,\n",
    "                              scale=np.sqrt(2/(self.hidden_units+self.outputs)),\n",
    "                             size = (self.hidden_units, self.outputs))\n",
    "        self.b1 = np.zeros(self.hidden_units)        \n",
    "        self.b2 = np.zeros(self.outputs)\n",
    "        for i in range(self.epochs):\n",
    "            for j in range(0, x.shape[0]):\n",
    "                self.forward(x[j])\n",
    "                self.backward(y[j])\n",
    "#             self.backward(y)\n",
    "        \n",
    "    def predict(self, x):\n",
    "        pass\n",
    "    \n",
    "    def myLogLoss(self, y, deriv=False):\n",
    "        if deriv is True:\n",
    "            return -(y/self.output) + ((1-y)/(1-self.output))\n",
    "        return -((y * np.log(self.output)) + (1 - y)  * np.log(1 - self.output))\n",
    "\n",
    "    def myCost(self, loss):\n",
    "        return np.mean(loss)\n",
    "\n",
    "    def randomise(self):\n",
    "        pass\n",
    "    \n",
    "    def sigmoid(self, x, deriv=False):\n",
    "        if deriv is True:\n",
    "            return x * (1-x)\n",
    "        return (1 / (1 + np.exp(-x)))\n",
    "    \n",
    "    def forward(self):\n",
    "        self.z1 = np.dot(training_sample, self.w1) + self.b1\n",
    "        self.hidden = self.sigmoid(self.z1)\n",
    "        self.z2 = np.dot(self.hidden, self.w2) + self.b2\n",
    "        self.output = self.sigmoid(self.z2)\n",
    "    \n",
    "    def mean_square(self, y):\n",
    "        return (((y - self.output)**2)*.5).sum() \n",
    "    \n",
    "    def softmax(self, x, deriv=False):\n",
    "        y =  np.exp(x - (x.max()))\n",
    "        return y / y.sum()\n",
    "    \n",
    "    def cross_entropyloss(y, yHat):\n",
    "        return -np.sum(y * np.log(yHat))\n",
    "\n",
    "    def backward(self, y):\n",
    "        \"\"\"\n",
    "        Delta of weight = -learning_rate(derError/DerWeight)\n",
    "        For the first layer \n",
    "        dError|dWeights = dweightedInput|dWeights * dActivation|dWeightedInput * dError|dActivation\n",
    "        dError|dBias = dweightedInput|dBias * dActivation|dWeightedInput * dError|dActivation\n",
    "        \"\"\"\n",
    "        d_error = self.myLogLoss(y, deriv=True)\n",
    "        print('d error:', d_error)\n",
    "        d_z2 = d_error * (self.sigmoid(self.z2, deriv=True))\n",
    "        d_w2 = d_z2 * self.hidden\n",
    "        d_b2 = np.sum(d_z2)\n",
    "        d_a1 = self.w2.T * d_z2\n",
    "        d_z1 = d_a1 * (self.sigmoid(self.z1, deriv=True).T)\n",
    "        d_w1 = d_z1 * self.input\n",
    "        d_b1 = np.sum(d_z1)\n",
    "    \n",
    "        print(self.w1)\n",
    "        print(d_w1)\n",
    "        self.w1 -= (self.learning_rate * d_w1)\n",
    "        self.w2 -= (self.learning_rate * d_w2)\n",
    "        \n",
    "        self.b1 -= self.learning_rate * d_b1\n",
    "        self.b2 -= self.learning_rate * d_b2\n",
    "    def predict(self, x):\n",
    "        self.input = x\n",
    "        self.forward()\n",
    "        return self.output\n",
    "#         loss = (self.myLogLoss(y))\n",
    "#         der_output = self.output - y\n",
    "#         der_w2 = np.dot(der_output, self.hidden.transpose())\n",
    "#         der_b2 = np.sum(der_output, axis=1, keepdims=True)\n",
    "        \n",
    "#         der_hidden = np.multuply(np.dot(W2.T, der_output), 1 - np.power(self.hidden, 2))\n",
    "#         der_w1 = np.dot(der_hidden, self.inputs.transpose())\n",
    "#         der_b1 = np.sum(der_hidden, azis = 1, keepdims=True)"
   ]
  },
  {
   "cell_type": "code",
   "execution_count": 3,
   "metadata": {},
   "outputs": [
    {
     "name": "stdout",
     "output_type": "stream",
     "text": [
      "d error: [-1.64836792]\n",
      "[[ 1.11568467  0.25308164  0.61900825]\n",
      " [ 1.4172653   1.18114738 -0.6180848 ]]\n",
      "[[ 0.         -0.         -0.        ]\n",
      " [ 0.16080805 -0.00926872 -0.02954532]]\n"
     ]
    },
    {
     "ename": "ValueError",
     "evalue": "non-broadcastable output operand with shape (3,1) doesn't match the broadcast shape (3,3)",
     "output_type": "error",
     "traceback": [
      "\u001b[0;31m---------------------------------------------------------------------------\u001b[0m",
      "\u001b[0;31mValueError\u001b[0m                                Traceback (most recent call last)",
      "\u001b[0;32m<ipython-input-3-98ff87281830>\u001b[0m in \u001b[0;36m<module>\u001b[0;34m\u001b[0m\n\u001b[1;32m      2\u001b[0m \u001b[0my\u001b[0m \u001b[0;34m=\u001b[0m \u001b[0mnp\u001b[0m\u001b[0;34m.\u001b[0m\u001b[0marray\u001b[0m\u001b[0;34m(\u001b[0m\u001b[0;34m(\u001b[0m\u001b[0;34m[\u001b[0m\u001b[0;36m1\u001b[0m\u001b[0;34m]\u001b[0m\u001b[0;34m,\u001b[0m\u001b[0;34m[\u001b[0m\u001b[0;36m1\u001b[0m\u001b[0;34m]\u001b[0m\u001b[0;34m,\u001b[0m\u001b[0;34m[\u001b[0m\u001b[0;36m0\u001b[0m\u001b[0;34m]\u001b[0m\u001b[0;34m,\u001b[0m\u001b[0;34m[\u001b[0m\u001b[0;36m0\u001b[0m\u001b[0;34m]\u001b[0m\u001b[0;34m)\u001b[0m\u001b[0;34m)\u001b[0m\u001b[0;34m\u001b[0m\u001b[0;34m\u001b[0m\u001b[0m\n\u001b[1;32m      3\u001b[0m \u001b[0mtest\u001b[0m \u001b[0;34m=\u001b[0m \u001b[0mMLP\u001b[0m\u001b[0;34m(\u001b[0m\u001b[0;36m2\u001b[0m\u001b[0;34m,\u001b[0m\u001b[0;36m1\u001b[0m\u001b[0;34m,\u001b[0m\u001b[0;36m3\u001b[0m\u001b[0;34m,\u001b[0m\u001b[0mrandom_state\u001b[0m\u001b[0;34m=\u001b[0m\u001b[0;36m0\u001b[0m\u001b[0;34m,\u001b[0m \u001b[0mepochs\u001b[0m\u001b[0;34m=\u001b[0m\u001b[0;36m1\u001b[0m\u001b[0;34m)\u001b[0m\u001b[0;34m\u001b[0m\u001b[0;34m\u001b[0m\u001b[0m\n\u001b[0;32m----> 4\u001b[0;31m \u001b[0mtest\u001b[0m\u001b[0;34m.\u001b[0m\u001b[0mfit\u001b[0m\u001b[0;34m(\u001b[0m\u001b[0mx\u001b[0m\u001b[0;34m,\u001b[0m\u001b[0my\u001b[0m\u001b[0;34m)\u001b[0m\u001b[0;34m\u001b[0m\u001b[0;34m\u001b[0m\u001b[0m\n\u001b[0m",
      "\u001b[0;32m<ipython-input-2-f955eb624ec2>\u001b[0m in \u001b[0;36mfit\u001b[0;34m(self, x, y)\u001b[0m\n\u001b[1;32m     38\u001b[0m             \u001b[0;32mfor\u001b[0m \u001b[0mj\u001b[0m \u001b[0;32min\u001b[0m \u001b[0mrange\u001b[0m\u001b[0;34m(\u001b[0m\u001b[0;36m0\u001b[0m\u001b[0;34m,\u001b[0m \u001b[0mx\u001b[0m\u001b[0;34m.\u001b[0m\u001b[0mshape\u001b[0m\u001b[0;34m[\u001b[0m\u001b[0;36m0\u001b[0m\u001b[0;34m]\u001b[0m\u001b[0;34m)\u001b[0m\u001b[0;34m:\u001b[0m\u001b[0;34m\u001b[0m\u001b[0;34m\u001b[0m\u001b[0m\n\u001b[1;32m     39\u001b[0m                 \u001b[0mself\u001b[0m\u001b[0;34m.\u001b[0m\u001b[0mforward\u001b[0m\u001b[0;34m(\u001b[0m\u001b[0mx\u001b[0m\u001b[0;34m[\u001b[0m\u001b[0mj\u001b[0m\u001b[0;34m]\u001b[0m\u001b[0;34m)\u001b[0m\u001b[0;34m\u001b[0m\u001b[0;34m\u001b[0m\u001b[0m\n\u001b[0;32m---> 40\u001b[0;31m                 \u001b[0mself\u001b[0m\u001b[0;34m.\u001b[0m\u001b[0mbackward\u001b[0m\u001b[0;34m(\u001b[0m\u001b[0my\u001b[0m\u001b[0;34m[\u001b[0m\u001b[0mj\u001b[0m\u001b[0;34m]\u001b[0m\u001b[0;34m)\u001b[0m\u001b[0;34m\u001b[0m\u001b[0;34m\u001b[0m\u001b[0m\n\u001b[0m\u001b[1;32m     41\u001b[0m \u001b[0;31m#             self.backward(y)\u001b[0m\u001b[0;34m\u001b[0m\u001b[0;34m\u001b[0m\u001b[0;34m\u001b[0m\u001b[0m\n\u001b[1;32m     42\u001b[0m \u001b[0;34m\u001b[0m\u001b[0m\n",
      "\u001b[0;32m<ipython-input-2-f955eb624ec2>\u001b[0m in \u001b[0;36mbackward\u001b[0;34m(self, y)\u001b[0m\n\u001b[1;32m     97\u001b[0m         \u001b[0mprint\u001b[0m\u001b[0;34m(\u001b[0m\u001b[0md_w1\u001b[0m\u001b[0;34m)\u001b[0m\u001b[0;34m\u001b[0m\u001b[0;34m\u001b[0m\u001b[0m\n\u001b[1;32m     98\u001b[0m         \u001b[0mself\u001b[0m\u001b[0;34m.\u001b[0m\u001b[0mw1\u001b[0m \u001b[0;34m-=\u001b[0m \u001b[0;34m(\u001b[0m\u001b[0mself\u001b[0m\u001b[0;34m.\u001b[0m\u001b[0mlearning_rate\u001b[0m \u001b[0;34m*\u001b[0m \u001b[0md_w1\u001b[0m\u001b[0;34m)\u001b[0m\u001b[0;34m\u001b[0m\u001b[0;34m\u001b[0m\u001b[0m\n\u001b[0;32m---> 99\u001b[0;31m         \u001b[0mself\u001b[0m\u001b[0;34m.\u001b[0m\u001b[0mw2\u001b[0m \u001b[0;34m-=\u001b[0m \u001b[0;34m(\u001b[0m\u001b[0mself\u001b[0m\u001b[0;34m.\u001b[0m\u001b[0mlearning_rate\u001b[0m \u001b[0;34m*\u001b[0m \u001b[0md_w2\u001b[0m\u001b[0;34m)\u001b[0m\u001b[0;34m\u001b[0m\u001b[0;34m\u001b[0m\u001b[0m\n\u001b[0m\u001b[1;32m    100\u001b[0m \u001b[0;34m\u001b[0m\u001b[0m\n\u001b[1;32m    101\u001b[0m         \u001b[0mself\u001b[0m\u001b[0;34m.\u001b[0m\u001b[0mb1\u001b[0m \u001b[0;34m-=\u001b[0m \u001b[0mself\u001b[0m\u001b[0;34m.\u001b[0m\u001b[0mlearning_rate\u001b[0m \u001b[0;34m*\u001b[0m \u001b[0md_b1\u001b[0m\u001b[0;34m\u001b[0m\u001b[0;34m\u001b[0m\u001b[0m\n",
      "\u001b[0;31mValueError\u001b[0m: non-broadcastable output operand with shape (3,1) doesn't match the broadcast shape (3,3)"
     ]
    }
   ],
   "source": [
    "x = np.array(([0, 1],[1,0], [1,1], [0,0]))\n",
    "y = np.array(([1],[1],[0],[0]))\n",
    "test = MLP(2,1,3,random_state=0, epochs=1)\n",
    "test.fit(x,y)"
   ]
  },
  {
   "cell_type": "code",
   "execution_count": 27,
   "metadata": {},
   "outputs": [
    {
     "data": {
      "text/plain": [
       "array([[0.49456415],\n",
       "       [0.48737562],\n",
       "       [0.49391868],\n",
       "       [0.47561739]])"
      ]
     },
     "execution_count": 27,
     "metadata": {},
     "output_type": "execute_result"
    }
   ],
   "source": [
    "test.predict(x)"
   ]
  },
  {
   "cell_type": "code",
   "execution_count": null,
   "metadata": {},
   "outputs": [],
   "source": []
  }
 ],
 "metadata": {
  "kernelspec": {
   "display_name": "Python 3",
   "language": "python",
   "name": "python3"
  },
  "language_info": {
   "codemirror_mode": {
    "name": "ipython",
    "version": 3
   },
   "file_extension": ".py",
   "mimetype": "text/x-python",
   "name": "python",
   "nbconvert_exporter": "python",
   "pygments_lexer": "ipython3",
   "version": "3.8.5"
  }
 },
 "nbformat": 4,
 "nbformat_minor": 4
}
