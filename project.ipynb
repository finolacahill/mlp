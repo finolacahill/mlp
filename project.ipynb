{
 "cells": [
  {
   "cell_type": "markdown",
   "metadata": {},
   "source": [
    "#### Train an MLP with 2 inputs, 3-4+ hidden units and one output on the following examples (XOR function):\n"
   ]
  },
  {
   "cell_type": "markdown",
   "metadata": {},
   "source": [
    "Step 1) Build a perceptron\n",
    "A stack of perceptrons together == hidden layer a.k.a a dense layer"
   ]
  },
  {
   "cell_type": "code",
   "execution_count": 1,
   "metadata": {},
   "outputs": [],
   "source": [
    "import numpy as np\n",
    "import pandas as pd\n",
    "np.random.seed(42)"
   ]
  },
  {
   "cell_type": "code",
   "execution_count": 125,
   "metadata": {},
   "outputs": [],
   "source": [
    "class MLP:\n",
    "    def __init__(self, X, y, hidden_units=3, epochs=100, learning_rate=.1, random_state=None):\n",
    "        self.X = X\n",
    "        self.y = y\n",
    "        self.hidden_units = hidden_units\n",
    "        self.epochs = epochs\n",
    "        self.learning_rate = learning_rate\n",
    "        self.random_state = random_state\n",
    "    \n",
    "    def checkParameters(self):\n",
    "        self.num_inputs = self.X.shape[1]\n",
    "        self.num_outputs = self.y.shape[1]\n",
    "        if self.X.shape[0] != self.y.shape[0]:\n",
    "            raise ValueError('X and Y have mismatched shapes')\n",
    "        if self.num_inputs < 1:\n",
    "            raise ValueError('Must have at least 1 input')\n",
    "        if self.num_outputs < 1:\n",
    "            raise ValueError('Must have at least 1 output')\n",
    "        if self.hidden_units < 1:\n",
    "            raise ValueError('Must have at least 1 hidden unit')\n",
    "        if self.epochs < 1:\n",
    "            raise ValueError('Must train for at least 1 epoch')\n",
    "        #Is it a max of 1 also??\n",
    "        if self.learning_rate <=0:\n",
    "            raise ValueError('Learning rate must be greater than 0')\n",
    "    \n",
    "\n",
    "    def sigmoid(self, x, deriv=False):\n",
    "        if deriv is True:\n",
    "            return x * (1-x)\n",
    "        return (1 / (1 + np.exp(-x)))\n",
    "     \n",
    "    def myLogLoss(self, deriv=False):\n",
    "        if deriv is True:\n",
    "            return -(self.y/self.output) + ((1-self.y)/(1-self.output))\n",
    "        return (1/self.num_inputs) * np.sum(-((self.y * np.log(self.output)) + (1 - self.y)  * np.log(1 - self.output)))\n",
    "    \n",
    " \n",
    "    def forward(self):\n",
    "        self.z1 = self.X@self.w1 + self.b1\n",
    "        self.a1 = np.tanh(self.z1)\n",
    "        self.z2 = self.a1@self.w2 + self.b2\n",
    "        self.output = self.sigmoid(self.z2)\n",
    "            \n",
    "        self.loss = self.myLogLoss()\n",
    "\n",
    "    def backward(self):\n",
    "        \n",
    "        d_output = self.output - self.y\n",
    "        d_w2 = (1/self.num_inputs) * (np.sum(d_output, axis=0, keepdims=True))\n",
    "        d_b2 = (1/self.num_inputs) * (np.sum(d_output, axis=0, keepdims=True))\n",
    "        d_z1 = (d_output@self.w2.T) * self.sigmoid(self.a1, deriv=True)\n",
    "        d_w1 = (1/self.num_inputs) * (self.X.T@d_z1)\n",
    "        d_b1 = (1/self.num_inputs) * (np.sum(d_z1, axis=0, keepdims=True))\n",
    "    \n",
    "        self.w1 -= (self.learning_rate * d_w1)\n",
    "        self.w2 -= (self.learning_rate * d_w2)\n",
    "        self.b1 -= (self.learning_rate * d_b1)\n",
    "        self.b2 -= (self.learning_rate * d_b2)\n",
    "\n",
    "    def fit(self, x, y):\n",
    "        self.checkParameters()\n",
    "        if self.random_state is not None:\n",
    "            np.random.seed(self.random_state)\n",
    "        \n",
    "        #Xavier initialization to train model to converge faster\n",
    "        self.w1 = np.random.normal(loc=0.0,\n",
    "                                scale=np.sqrt(2/(self.num_inputs+self.hidden_units)),\n",
    "                                size = (self.num_inputs, self.hidden_units))\n",
    "        self.w2 = np.random.normal(loc=0.0,\n",
    "                                scale=np.sqrt(2/(self.hidden_units+self.num_outputs)),\n",
    "                                size = (self.hidden_units, self.num_outputs))\n",
    "        self.b1 = np.zeros((1,self.hidden_units))       \n",
    "        self.b2 = np.zeros((1,self.num_outputs))\n",
    "        for i in range (self.epochs):\n",
    "            self.forward()\n",
    "        #    print(\"Epoch {} Loss is {}\".format(i+1, self.loss))\n",
    "            self.backward()\n",
    "    \n",
    "    def predict(self, x):\n",
    "        self.X = x\n",
    "        self.forward()\n",
    "        return np.rint(self.output)"
   ]
  },
  {
   "cell_type": "code",
   "execution_count": null,
   "metadata": {},
   "outputs": [],
   "source": []
  },
  {
   "cell_type": "code",
   "execution_count": 126,
   "metadata": {},
   "outputs": [
    {
     "data": {
      "text/plain": [
       "array([[1.],\n",
       "       [1.],\n",
       "       [0.],\n",
       "       [0.]])"
      ]
     },
     "execution_count": 126,
     "metadata": {},
     "output_type": "execute_result"
    }
   ],
   "source": [
    "x = np.array(([0, 1],[1,0], [1,1], [0,0]))\n",
    "y = np.array(([1],[1],[0],[0]))\n",
    "test = MLP(x,y,3,random_state=0, epochs=100000)\n",
    "test.fit(x,y)\n",
    "test.predict(x)"
   ]
  },
  {
   "cell_type": "code",
   "execution_count": 110,
   "metadata": {},
   "outputs": [],
   "source": [
    "    def predict(self, x):\n",
    "        pass\n",
    "   \n",
    "\n",
    "    def myCost(self, loss):\n",
    "        return np.mean(loss)\n",
    "\n",
    "    def randomise(self):\n",
    "        pass\n",
    "    \n",
    "\n",
    "    \n",
    "\n",
    "    \n",
    "    def mean_square(self, y):\n",
    "        return (((y - self.output)**2)*.5).sum() \n",
    "    \n",
    "    def softmax(self, x, deriv=False):\n",
    "        y =  np.exp(x - (x.max()))\n",
    "        return y / y.sum()\n",
    "    \n",
    "    def cross_entropyloss(y, yHat):\n",
    "        return -np.sum(y * np.log(yHat))\n",
    "\n",
    "    def backward(self, y):\n",
    "        \"\"\"\n",
    "        Delta of weight = -learning_rate(derError/DerWeight)\n",
    "        For the first layer \n",
    "        dError|dWeights = dweightedInput|dWeights * dActivation|dWeightedInput * dError|dActivation\n",
    "        dError|dBias = dweightedInput|dBias * dActivation|dWeightedInput * dError|dActivation\n",
    "        \"\"\"\n",
    "        d_error = self.myLogLoss(y, deriv=True)\n",
    "        print('d error:', d_error)\n",
    "        d_z2 = d_error * (self.sigmoid(self.z2, deriv=True))\n",
    "        d_w2 = d_z2 * self.hidden\n",
    "        d_b2 = np.sum(d_z2)\n",
    "        d_a1 = self.w2.T * d_z2\n",
    "        d_z1 = d_a1 * (self.sigmoid(self.z1, deriv=True).T)\n",
    "        d_w1 = d_z1 * self.input\n",
    "        d_b1 = np.sum(d_z1)\n",
    "    \n",
    "        print(self.w1)\n",
    "        print(d_w1)\n",
    "        self.w1 -= (self.learning_rate * d_w1)\n",
    "        self.w2 -= (self.learning_rate * d_w2)\n",
    "        \n",
    "        self.b1 -= self.learning_rate * d_b1\n",
    "        self.b2 -= self.learning_rate * d_b2\n",
    "    def predict(self, x):\n",
    "        self.input = x\n",
    "        self.forward()\n",
    "        return self.output\n",
    "#         loss = (self.myLogLoss(y))\n",
    "#         der_output = self.output - y\n",
    "#         der_w2 = np.dot(der_output, self.hidden.transpose())\n",
    "#         der_b2 = np.sum(der_output, axis=1, keepdims=True)\n",
    "        \n",
    "#         der_hidden = np.multuply(np.dot(W2.T, der_output), 1 - np.power(self.hidden, 2))\n",
    "#         der_w1 = np.dot(der_hidden, self.inputs.transpose())\n",
    "#         der_b1 = np.sum(der_hidden, azis = 1, keepdims=True)"
   ]
  },
  {
   "cell_type": "code",
   "execution_count": 8,
   "metadata": {},
   "outputs": [
    {
     "ename": "ValueError",
     "evalue": "operands could not be broadcast together with shapes (4,2) (2,3) ",
     "output_type": "error",
     "traceback": [
      "\u001b[0;31m-------------------------------------\u001b[0m",
      "\u001b[0;31mValueError\u001b[0mTraceback (most recent call last)",
      "\u001b[0;32m<ipython-input-8-d3865e1ab8bb>\u001b[0m in \u001b[0;36m<module>\u001b[0;34m\u001b[0m\n\u001b[0;32m----> 1\u001b[0;31m \u001b[0mtest\u001b[0m\u001b[0;34m.\u001b[0m\u001b[0mpredict\u001b[0m\u001b[0;34m(\u001b[0m\u001b[0mx\u001b[0m\u001b[0;34m)\u001b[0m\u001b[0;34m\u001b[0m\u001b[0;34m\u001b[0m\u001b[0m\n\u001b[0m",
      "\u001b[0;32m<ipython-input-6-362f5aa5e953>\u001b[0m in \u001b[0;36mpredict\u001b[0;34m(self, x)\u001b[0m\n\u001b[1;32m    102\u001b[0m     \u001b[0;32mdef\u001b[0m \u001b[0mpredict\u001b[0m\u001b[0;34m(\u001b[0m\u001b[0mself\u001b[0m\u001b[0;34m,\u001b[0m \u001b[0mx\u001b[0m\u001b[0;34m)\u001b[0m\u001b[0;34m:\u001b[0m\u001b[0;34m\u001b[0m\u001b[0;34m\u001b[0m\u001b[0m\n\u001b[1;32m    103\u001b[0m         \u001b[0mself\u001b[0m\u001b[0;34m.\u001b[0m\u001b[0minput\u001b[0m \u001b[0;34m=\u001b[0m \u001b[0mx\u001b[0m\u001b[0;34m\u001b[0m\u001b[0;34m\u001b[0m\u001b[0m\n\u001b[0;32m--> 104\u001b[0;31m         \u001b[0mself\u001b[0m\u001b[0;34m.\u001b[0m\u001b[0mforward\u001b[0m\u001b[0;34m(\u001b[0m\u001b[0;34m)\u001b[0m\u001b[0;34m\u001b[0m\u001b[0;34m\u001b[0m\u001b[0m\n\u001b[0m\u001b[1;32m    105\u001b[0m         \u001b[0;32mreturn\u001b[0m \u001b[0mself\u001b[0m\u001b[0;34m.\u001b[0m\u001b[0moutput\u001b[0m\u001b[0;34m\u001b[0m\u001b[0;34m\u001b[0m\u001b[0m\n\u001b[1;32m    106\u001b[0m \u001b[0;31m#         loss = (self.myLogLoss(y))\u001b[0m\u001b[0;34m\u001b[0m\u001b[0;34m\u001b[0m\u001b[0;34m\u001b[0m\u001b[0m\n",
      "\u001b[0;32m<ipython-input-6-362f5aa5e953>\u001b[0m in \u001b[0;36mforward\u001b[0;34m(self)\u001b[0m\n\u001b[1;32m     61\u001b[0m \u001b[0;34m\u001b[0m\u001b[0m\n\u001b[1;32m     62\u001b[0m     \u001b[0;32mdef\u001b[0m \u001b[0mforward\u001b[0m\u001b[0;34m(\u001b[0m\u001b[0mself\u001b[0m\u001b[0;34m)\u001b[0m\u001b[0;34m:\u001b[0m\u001b[0;34m\u001b[0m\u001b[0;34m\u001b[0m\u001b[0m\n\u001b[0;32m---> 63\u001b[0;31m         \u001b[0mself\u001b[0m\u001b[0;34m.\u001b[0m\u001b[0mz1\u001b[0m \u001b[0;34m=\u001b[0m \u001b[0mself\u001b[0m\u001b[0;34m.\u001b[0m \u001b[0minput\u001b[0m \u001b[0;34m*\u001b[0m \u001b[0mself\u001b[0m\u001b[0;34m.\u001b[0m\u001b[0mw1\u001b[0m \u001b[0;34m+\u001b[0m \u001b[0mself\u001b[0m\u001b[0;34m.\u001b[0m\u001b[0mb1\u001b[0m\u001b[0;34m\u001b[0m\u001b[0;34m\u001b[0m\u001b[0m\n\u001b[0m\u001b[1;32m     64\u001b[0m         \u001b[0mself\u001b[0m\u001b[0;34m.\u001b[0m\u001b[0mhidden\u001b[0m \u001b[0;34m=\u001b[0m \u001b[0mself\u001b[0m\u001b[0;34m.\u001b[0m\u001b[0msigmoid\u001b[0m\u001b[0;34m(\u001b[0m\u001b[0mself\u001b[0m\u001b[0;34m.\u001b[0m\u001b[0mz1\u001b[0m\u001b[0;34m)\u001b[0m\u001b[0;34m\u001b[0m\u001b[0;34m\u001b[0m\u001b[0m\n\u001b[1;32m     65\u001b[0m         \u001b[0mself\u001b[0m\u001b[0;34m.\u001b[0m\u001b[0mz2\u001b[0m \u001b[0;34m=\u001b[0m \u001b[0mself\u001b[0m\u001b[0;34m.\u001b[0m\u001b[0mhidden\u001b[0m \u001b[0;34m*\u001b[0m \u001b[0mself\u001b[0m\u001b[0;34m.\u001b[0m\u001b[0mw2\u001b[0m \u001b[0;34m+\u001b[0m \u001b[0mself\u001b[0m\u001b[0;34m.\u001b[0m\u001b[0mb1\u001b[0m\u001b[0;34m\u001b[0m\u001b[0;34m\u001b[0m\u001b[0m\n",
      "\u001b[0;31mValueError\u001b[0m: operands could not be broadcast together with shapes (4,2) (2,3) "
     ]
    }
   ],
   "source": [
    "test.predict(x)"
   ]
  },
  {
   "cell_type": "code",
   "execution_count": null,
   "metadata": {},
   "outputs": [],
   "source": []
  }
 ],
 "metadata": {
  "kernelspec": {
   "display_name": "Python 3",
   "language": "python",
   "name": "python3"
  },
  "language_info": {
   "codemirror_mode": {
    "name": "ipython",
    "version": 3
   },
   "file_extension": ".py",
   "mimetype": "text/x-python",
   "name": "python",
   "nbconvert_exporter": "python",
   "pygments_lexer": "ipython3",
   "version": "3.8.5"
  }
 },
 "nbformat": 4,
 "nbformat_minor": 4
}
