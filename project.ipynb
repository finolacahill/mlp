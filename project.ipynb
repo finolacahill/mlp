{
 "cells": [
  {
   "cell_type": "markdown",
   "metadata": {},
   "source": [
    "#### Train an MLP with 2 inputs, 3-4+ hidden units and one output on the following examples (XOR function):\n"
   ]
  },
  {
   "cell_type": "markdown",
   "metadata": {},
   "source": [
    "Step 1) Build a perceptron\n",
    "A stack of perceptrons together == hidden layer a.k.a a dense layer"
   ]
  },
  {
   "cell_type": "code",
   "execution_count": 31,
   "metadata": {},
   "outputs": [],
   "source": [
    "import numpy as np\n",
    "import pandas as pd\n",
    "np.random.seed(42)\n",
    "from sklearn.model_selection import train_test_split"
   ]
  },
  {
   "cell_type": "code",
   "execution_count": 18,
   "metadata": {},
   "outputs": [],
   "source": [
    "class MLP:\n",
    "    def __init__(self, X, y, hidden_units=3, epochs=100, learning_rate=.1, random_state=None):\n",
    "        self.X = X\n",
    "        self.y = y\n",
    "        self.hidden_units = hidden_units\n",
    "        self.epochs = epochs\n",
    "        self.learning_rate = learning_rate\n",
    "        self.random_state = random_state\n",
    "    \n",
    "    def checkParameters(self):\n",
    "        self.num_inputs = self.X.shape[1]\n",
    "        self.num_outputs = self.y.shape[1]\n",
    "        if self.X.shape[0] != self.y.shape[0]:\n",
    "            raise ValueError('X and Y have mismatched shapes')\n",
    "        if self.num_inputs < 1:\n",
    "            raise ValueError('Must have at least 1 input')\n",
    "        if self.num_outputs < 1:\n",
    "            raise ValueError('Must have at least 1 output')\n",
    "        if self.hidden_units < 1:\n",
    "            raise ValueError('Must have at least 1 hidden unit')\n",
    "        if self.epochs < 1:\n",
    "            raise ValueError('Must train for at least 1 epoch')\n",
    "        #Is it a max of 1 also??\n",
    "        if self.learning_rate <=0:\n",
    "            raise ValueError('Learning rate must be greater than 0')\n",
    "    \n",
    "\n",
    "    def sigmoid(self, x, deriv=False):\n",
    "        if deriv is True:\n",
    "            return x * (1-x)\n",
    "        return (1 / (1 + np.exp(-x)))\n",
    "     \n",
    "    def myLogLoss(self, deriv=False):\n",
    "        if deriv is True:\n",
    "            return -(self.y/self.output) + ((1-self.y)/(1-self.output))\n",
    "        return (1/self.num_inputs) * np.sum(-((self.y * np.log(self.output)) + (1 - self.y)  * np.log(1 - self.output)))\n",
    "    \n",
    " \n",
    "    def forward(self):\n",
    "        self.z1 = self.X@self.w1 + self.b1\n",
    "        self.a1 = np.tanh(self.z1)\n",
    "        self.z2 = self.a1@self.w2 + self.b2\n",
    "        self.output = self.sigmoid(self.z2)\n",
    "            \n",
    "        self.loss = self.myLogLoss()\n",
    "\n",
    "    def backward(self):\n",
    "        \n",
    "        d_output = self.output - self.y\n",
    "        d_w2 = (1/self.num_inputs) * (np.sum(d_output, axis=0, keepdims=True))\n",
    "        d_b2 = (1/self.num_inputs) * (np.sum(d_output, axis=0, keepdims=True))\n",
    "        d_z1 = (d_output@self.w2.T) * self.sigmoid(self.a1, deriv=True)\n",
    "        d_w1 = (1/self.num_inputs) * (self.X.T@d_z1)\n",
    "        d_b1 = (1/self.num_inputs) * (np.sum(d_z1, axis=0, keepdims=True))\n",
    "    \n",
    "        self.w1 -= (self.learning_rate * d_w1)\n",
    "        self.w2 -= (self.learning_rate * d_w2)\n",
    "        self.b1 -= (self.learning_rate * d_b1)\n",
    "        self.b2 -= (self.learning_rate * d_b2)\n",
    "\n",
    "    def fit(self, x, y):\n",
    "        self.checkParameters()\n",
    "        if self.random_state is not None:\n",
    "            np.random.seed(self.random_state)\n",
    "        \n",
    "        #Xavier initialization to train model to converge faster\n",
    "        self.w1 = np.random.normal(loc=0.0,\n",
    "                                scale=np.sqrt(2/(self.num_inputs+self.hidden_units)),\n",
    "                                size = (self.num_inputs, self.hidden_units))\n",
    "        self.w2 = np.random.normal(loc=0.0,\n",
    "                                scale=np.sqrt(2/(self.hidden_units+self.num_outputs)),\n",
    "                                size = (self.hidden_units, self.num_outputs))\n",
    "        self.b1 = np.zeros((1,self.hidden_units))       \n",
    "        self.b2 = np.zeros((1,self.num_outputs))\n",
    "        for i in range (self.epochs):\n",
    "            self.forward()\n",
    "        #    print(\"Epoch {} Loss is {}\".format(i+1, self.loss))\n",
    "            self.backward()\n",
    "    \n",
    "    def predict(self, x):\n",
    "        self.X = x\n",
    "        self.forward()\n",
    "        return self.output"
   ]
  },
  {
   "cell_type": "code",
   "execution_count": 25,
   "metadata": {},
   "outputs": [],
   "source": [
    "x = np.array(([0, 1],[1,0], [1,1], [0,0]))\n",
    "y = np.array(([1],[1],[0],[0]))\n",
    "test = MLP(x,y,4,random_state=0, epochs=100000)\n",
    "test.fit(x,y)"
   ]
  },
  {
   "cell_type": "code",
   "execution_count": 26,
   "metadata": {},
   "outputs": [
    {
     "data": {
      "text/plain": [
       "array([[0.67798406],\n",
       "       [0.99875246],\n",
       "       [0.28563373],\n",
       "       [0.03943291]])"
      ]
     },
     "execution_count": 26,
     "metadata": {},
     "output_type": "execute_result"
    }
   ],
   "source": [
    "test.predict(x)"
   ]
  },
  {
   "cell_type": "code",
   "execution_count": 28,
   "metadata": {},
   "outputs": [],
   "source": [
    "data = []\n",
    "y_data = []\n",
    "for n in range(100):\n",
    "    data.append(np.random.uniform(low=-1.0,high=1.0, size=(4, 1)))\n",
    "    y_data.append(np.sin(data[-1][0] - data[-1][1] + data[-1][2] - data[-1][3]))\n",
    "y_data = np.array(y_data)\n",
    "X_data = np.array(data)\n",
    "X_data = X_data.reshape(100, 4)"
   ]
  },
  {
   "cell_type": "code",
   "execution_count": 32,
   "metadata": {},
   "outputs": [],
   "source": [
    "X_train, X_test, y_train, y_test = train_test_split(X_data, y_data, random_state=0, test_size = 0.25, train_size = 0.75)"
   ]
  },
  {
   "cell_type": "code",
   "execution_count": 34,
   "metadata": {},
   "outputs": [
    {
     "name": "stdout",
     "output_type": "stream",
     "text": [
      "0.9998459796152872\n",
      "-0.9996706301937582\n"
     ]
    }
   ],
   "source": [
    "print(np.max(y_data))\n",
    "print(np.min(y_data))"
   ]
  },
  {
   "cell_type": "code",
   "execution_count": 35,
   "metadata": {},
   "outputs": [],
   "source": [
    "class MLP:\n",
    "    def __init__(self, X, y, hidden_units=3, epochs=100, learning_rate=.1, random_state=None):\n",
    "        self.X = X\n",
    "        self.y = y\n",
    "        self.hidden_units = hidden_units\n",
    "        self.epochs = epochs\n",
    "        self.learning_rate = learning_rate\n",
    "        self.random_state = random_state\n",
    "\n",
    "    def checkParameters(self):\n",
    "        self.num_inputs = self.X.shape[1]\n",
    "        self.num_outputs = self.y.shape[1]\n",
    "        if self.X.shape[0] != self.y.shape[0]:\n",
    "            raise ValueError('X and Y have mismatched shapes')\n",
    "        if self.num_inputs < 1:\n",
    "            raise ValueError('Must have at least 1 input')\n",
    "        if self.num_outputs < 1:\n",
    "            raise ValueError('Must have at least 1 output')\n",
    "        if self.hidden_units < 1:\n",
    "            raise ValueError('Must have at least 1 hidden unit')\n",
    "        if self.epochs < 1:\n",
    "            raise ValueError('Must train for at least 1 epoch')\n",
    "        #Is it a max of 1 also??\n",
    "        if self.learning_rate <=0:\n",
    "            raise ValueError('Learning rate must be greater than 0')\n",
    "\n",
    "\n",
    "    def sigmoid(self, x, deriv=False):\n",
    "        if deriv is True:\n",
    "            return x * (1-x)\n",
    "        return (1 / (1 + np.exp(-x)))\n",
    "\n",
    "    def myLogLoss(self, deriv=False):\n",
    "        if deriv is True:\n",
    "            return -(self.y/self.output) + ((1-self.y)/(1-self.output))\n",
    "      #  print(1/self.num_inputs)\n",
    "        a = (-self.y.T)\n",
    "        b = (np.log(self.output))\n",
    "   #     print('here:', a.shape, b.shape, b @ a)\n",
    "   #         return (1/self.num_inputs) * (np.sum(-self.y.T@np.log(self.output)-(1-self.y).T@np.log(1-self.output)))\n",
    "\n",
    "    def MSE(self):\n",
    "        return np.square(self.output - self.y).mean()\n",
    "\n",
    "    def forward(self):\n",
    "        self.z1 = self.X@self.w1 + self.b1\n",
    "        self.a1 = np.tanh(self.z1)\n",
    "        self.z2 = self.a1@self.w2 + self.b2\n",
    "        self.output = np.tanh(self.z2)\n",
    "        self.loss = self.MSE()\n",
    "\n",
    "    def backward(self):\n",
    "\n",
    "        d_output = self.output - self.y\n",
    "        d_w2 = (1/self.num_inputs) * (self.a1.T @ d_output)\n",
    "        d_b2 = (1/self.num_inputs) * (np.sum(d_output, axis = 0, keepdims=True))\n",
    "        d_z1 = (d_output@self.w2.T) * (1-(self.a1**2))\n",
    "        d_w1 = (1/self.num_inputs) * (self.X.T@d_z1)\n",
    "        d_b1 = (1/self.num_inputs) * (np.sum(d_z1, axis=0, keepdims=True))\n",
    "\n",
    "        self.w1 -= (self.learning_rate * d_w1)\n",
    "        self.w2 -= (self.learning_rate * d_w2)\n",
    "        self.b1 -= (self.learning_rate * d_b1)\n",
    "        self.b2 -= (self.learning_rate * d_b2)\n",
    "\n",
    "    def fit(self, x, y):\n",
    "        self.checkParameters()\n",
    "        if self.random_state is not None:\n",
    "            np.random.seed(self.random_state)\n",
    "\n",
    "#         Xavier initialization to train model to converge faster\n",
    "        self.w1 = np.random.normal(loc=0.0,\n",
    "                                scale=np.sqrt(2/(self.num_inputs+self.hidden_units)),\n",
    "                                size = (self.num_inputs, self.hidden_units))\n",
    "        self.w2 = np.random.normal(loc=0.0,\n",
    "                                scale=np.sqrt(2/(self.hidden_units+self.num_outputs)),\n",
    "                                size = (self.hidden_units, self.num_outputs))\n",
    "        self.b1 = np.zeros((1,self.hidden_units))\n",
    "        self.b2 = np.zeros((1,self.num_outputs))\n",
    "        for i in range (self.epochs):\n",
    "            self.forward()\n",
    "        #    print(\"Epoch {} Loss is {}\".format(i+1, self.loss))\n",
    "            self.backward()\n",
    "\n",
    "    def predict(self, x):\n",
    "        self.X = x\n",
    "        self.forward()\n",
    "        return self.output"
   ]
  },
  {
   "cell_type": "code",
   "execution_count": 48,
   "metadata": {},
   "outputs": [],
   "source": [
    "test = MLP(X_train,y_train,4,random_state=0, epochs=10000)\n",
    "test.fit(X_train,y_train)"
   ]
  },
  {
   "cell_type": "code",
   "execution_count": 45,
   "metadata": {},
   "outputs": [],
   "source": [
    "predict = test.predict(X_train)"
   ]
  },
  {
   "cell_type": "code",
   "execution_count": 49,
   "metadata": {},
   "outputs": [],
   "source": [
    "error = np.power((predict - y_train), 2).mean()"
   ]
  },
  {
   "cell_type": "code",
   "execution_count": 47,
   "metadata": {},
   "outputs": [
    {
     "data": {
      "text/plain": [
       "0.006700603535698823"
      ]
     },
     "execution_count": 47,
     "metadata": {},
     "output_type": "execute_result"
    }
   ],
   "source": [
    "error"
   ]
  },
  {
   "cell_type": "code",
   "execution_count": 50,
   "metadata": {},
   "outputs": [
    {
     "data": {
      "text/plain": [
       "0.006700603535698823"
      ]
     },
     "execution_count": 50,
     "metadata": {},
     "output_type": "execute_result"
    }
   ],
   "source": [
    "error"
   ]
  },
  {
   "cell_type": "code",
   "execution_count": null,
   "metadata": {},
   "outputs": [],
   "source": []
  }
 ],
 "metadata": {
  "kernelspec": {
   "display_name": "Python 3",
   "language": "python",
   "name": "python3"
  },
  "language_info": {
   "codemirror_mode": {
    "name": "ipython",
    "version": 3
   },
   "file_extension": ".py",
   "mimetype": "text/x-python",
   "name": "python",
   "nbconvert_exporter": "python",
   "pygments_lexer": "ipython3",
   "version": "3.8.5"
  }
 },
 "nbformat": 4,
 "nbformat_minor": 4
}
