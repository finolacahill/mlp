{
 "cells": [
  {
   "cell_type": "markdown",
   "metadata": {},
   "source": [
    "#### Train an MLP with 2 inputs, 3-4+ hidden units and one output on the following examples (XOR function):\n"
   ]
  },
  {
   "cell_type": "markdown",
   "metadata": {},
   "source": [
    "Step 1) Build a perceptron\n",
    "A stack of perceptrons together == hidden layer a.k.a a dense layer"
   ]
  },
  {
   "cell_type": "code",
   "execution_count": 83,
   "metadata": {},
   "outputs": [],
   "source": [
    "import numpy as np\n",
    "import pandas as pd\n",
    "np.random.seed(42)"
   ]
  },
  {
   "cell_type": "code",
   "execution_count": 116,
   "metadata": {},
   "outputs": [],
   "source": [
    "class MLP:\n",
    "    def __init__(self, inputs, outputs, hidden_units=3, epochs=20, learning_rate=.1, random_state=None):\n",
    "        self.inputs = inputs\n",
    "        self.outputs = outputs\n",
    "        self.hidden_units = hidden_units\n",
    "        self.epochs = epochs\n",
    "        self.learning_rate = learning_rate\n",
    "        self.random_state = random_state\n",
    "    def checkParameters(self):\n",
    "        if self.inputs < 1:\n",
    "            raise ValueError('Must have at least 1 input')\n",
    "        if self.outputs < 1:\n",
    "            raise ValueError('Must have at least 1 output')\n",
    "        if self.hidden_units < 1:\n",
    "            raise ValueError('Must have at least 1 hidden unit')\n",
    "        if self.epochs < 1:\n",
    "            raise ValueError('Must train for at least 1 epoch')\n",
    "        #Is it a max of 1 also??\n",
    "        if self.learning_rate <=0:\n",
    "            raise ValueError('Learning rate must be greater than 0')\n",
    "    \n",
    "    def fit(self, x, y):\n",
    "        self.checkParameters()\n",
    "        self.input = x\n",
    "        self.output = y\n",
    "        if self.random_state is not None:\n",
    "            np.random.seed(self.random_state)\n",
    "        #Xavier initialization to train model to converge faster\n",
    "        self.w1 = np.random.normal(loc=0.0,\n",
    "                              scale=np.sqrt(2/(self.inputs+self.hidden_units)),\n",
    "                             size = (self.inputs, self.hidden_units))\n",
    "        self.w2 = np.random.normal(loc=0.0,\n",
    "                              scale=np.sqrt(2/(self.hidden_units+self.outputs)),\n",
    "                             size = (self.hidden_units, self.outputs))\n",
    "        self.h1 = np.zeros(self.hidden_units)\n",
    "        ## bias can be added later if necessary\n",
    "        \n",
    "        self.forward()\n",
    "        self.backward(y)\n",
    "    def predict(self, x):\n",
    "        pass\n",
    "    \n",
    "    def myLogLoss(self, y):\n",
    "        return -((y * np.log(self.output)) + (1 - y)  * np.log(1 - self.output))\n",
    "    \n",
    "    def myCost(self, loss):\n",
    "        return np.mean(loss)\n",
    "\n",
    "    def randomise(self):\n",
    "        pass\n",
    "    \n",
    "    def sigmoid(self, x):\n",
    "        return (1 / (1 + np.exp(-x)))\n",
    "    \n",
    "    def forward(self):\n",
    "        z1 = np.dot(self.input, self.w1)\n",
    "        self.hidden = self.sigmoid(z1)\n",
    "        z2 = np.dot(self.hidden, self.w2)\n",
    "        self.output = self.sigmoid(z2)\n",
    "      #  print(self.output)\n",
    "        \n",
    "        \n",
    "    \n",
    "    def backward(self, y):\n",
    "        print(self.output)\n",
    "        loss = (self.myLogLoss(y))\n",
    "        w1 = w1 - (self.learning_rate * ()\n",
    "        print(loss)\n",
    "        print(self.myCost(loss))"
   ]
  },
  {
   "cell_type": "code",
   "execution_count": 117,
   "metadata": {},
   "outputs": [
    {
     "name": "stdout",
     "output_type": "stream",
     "text": [
      "[0.61434556 0.60915575]\n",
      "[0.48719771 0.93944613]\n",
      "0.7133219229438384\n"
     ]
    }
   ],
   "source": [
    "x = np.array([0, 1])\n",
    "y = np.array([1, 0])\n",
    "test = MLP(2,2,3,random_state=0)\n",
    "test.fit(x,y)"
   ]
  },
  {
   "cell_type": "code",
   "execution_count": null,
   "metadata": {},
   "outputs": [],
   "source": []
  },
  {
   "cell_type": "code",
   "execution_count": null,
   "metadata": {},
   "outputs": [],
   "source": []
  }
 ],
 "metadata": {
  "kernelspec": {
   "display_name": "Python 3",
   "language": "python",
   "name": "python3"
  },
  "language_info": {
   "codemirror_mode": {
    "name": "ipython",
    "version": 3
   },
   "file_extension": ".py",
   "mimetype": "text/x-python",
   "name": "python",
   "nbconvert_exporter": "python",
   "pygments_lexer": "ipython3",
   "version": "3.8.5"
  }
 },
 "nbformat": 4,
 "nbformat_minor": 4
}
